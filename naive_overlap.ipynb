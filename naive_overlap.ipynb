{
 "cells": [
  {
   "cell_type": "code",
   "execution_count": 1,
   "metadata": {},
   "outputs": [],
   "source": [
    "%matplotlib inline\n",
    "\n",
    "import numpy as np\n",
    "import time\n",
    "from numba import njit, prange\n",
    "import matplotlib.pyplot as plt"
   ]
  },
  {
   "cell_type": "code",
   "execution_count": 2,
   "metadata": {},
   "outputs": [],
   "source": [
    "x = np.array([6, 5, 3, 0, 2, 1, 5, 1, 5, 1, 0, 7, 4, 6, 5, 3, 0])\n",
    "\n",
    "#    steps  count      sequence\n",
    "# 0      2      2        [1, 5]\n",
    "# 1      2      2        [3, 0]\n",
    "# 2      2      2        [5, 1]\n",
    "# 3      2      2        [5, 3]\n",
    "# 4      2      2        [6, 5]\n",
    "# 5      3      2     [1, 5, 1]\n",
    "# 6      3      2     [5, 3, 0]\n",
    "# 7      3      2     [6, 5, 3]\n",
    "# 8      4      2  [6, 5, 3, 0]"
   ]
  },
  {
   "cell_type": "code",
   "execution_count": 3,
   "metadata": {},
   "outputs": [],
   "source": [
    "@njit(parallel=True, fastmath=True)\n",
    "def naive_overlap(x, print_output=True):\n",
    "    for steps in prange(2, x.shape[0]-1):\n",
    "        for i in range(x.shape[0]-steps+1):\n",
    "            count = 0\n",
    "            for j in range(i, x.shape[0]-steps+1):  # Upper triangular\n",
    "                increment = True\n",
    "                for k in prange(steps):\n",
    "                    if x[i+k] != x[j+k]:\n",
    "                        increment = False\n",
    "                        break\n",
    "                if increment:\n",
    "                    count += 1\n",
    "            if print_output and count >= 2:\n",
    "                print(steps, count, x[i:i+steps])"
   ]
  },
  {
   "cell_type": "code",
   "execution_count": 4,
   "metadata": {},
   "outputs": [
    {
     "name": "stdout",
     "output_type": "stream",
     "text": [
      "2 2 [6 5]\n",
      "2 2 [5 3]\n",
      "2 2 [3 0]\n",
      "2 2 [1 5]\n",
      "2 2 [5 1]\n",
      "3 2 [6 5 3]\n",
      "3 2 [5 3 0]\n",
      "3 2 [1 5 1]\n",
      "4 2 [6 5 3 0]\n"
     ]
    }
   ],
   "source": [
    "naive_overlap(x)"
   ]
  },
  {
   "cell_type": "code",
   "execution_count": null,
   "metadata": {},
   "outputs": [
    {
     "name": "stdout",
     "output_type": "stream",
     "text": [
      "64 0.5668342113494873\n",
      "128 0.0008769035339355469\n",
      "256 0.004457950592041016\n",
      "512 0.038243770599365234\n",
      "1024 0.2919931411743164\n",
      "2048 2.2470579147338867\n",
      "4096 20.254921197891235\n",
      "8192 149.0846300125122\n",
      "16384 1151.8504710197449\n",
      "32768 9227.93028998375\n"
     ]
    }
   ],
   "source": [
    "inp = np.random.randint(0, 100, size=10**7)\n",
    "\n",
    "timing = []\n",
    "for n in range(6,16):\n",
    "    inx = int(2**n)\n",
    "    start = time.time()\n",
    "    naive_overlap(inp[:inx], print_output=False)\n",
    "    stop = time.time()-start\n",
    "    timing.append([inx, stop])\n",
    "    print(inx, stop)\n",
    "    \n",
    "# 64 0.5668342113494873\n",
    "# 128 0.0008769035339355469\n",
    "# 256 0.004457950592041016\n",
    "# 512 0.038243770599365234\n",
    "# 1024 0.2919931411743164\n",
    "# 2048 2.2470579147338867\n",
    "# 4096 20.254921197891235\n",
    "# 8192 149.0846300125122\n",
    "# 16384 1151.8504710197449\n",
    "# 32768 9227.93028998375"
   ]
  },
  {
   "cell_type": "code",
   "execution_count": 2,
   "metadata": {},
   "outputs": [],
   "source": [
    "x = np.array([\n",
    "    [64, 0.5668342113494873],\n",
    "    [128, 0.0008769035339355469],\n",
    "    [256, 0.004457950592041016],\n",
    "    [512, 0.038243770599365234],\n",
    "    [1024, 0.2919931411743164],\n",
    "    [2048, 2.2470579147338867],\n",
    "    [4096, 20.254921197891235],\n",
    "    [8192, 149.0846300125122],\n",
    "    [16384, 1151.8504710197449],\n",
    "    [32768, 9227.93028998375]\n",
    "])"
   ]
  },
  {
   "cell_type": "code",
   "execution_count": 8,
   "metadata": {},
   "outputs": [
    {
     "data": {
      "text/plain": [
       "[<matplotlib.lines.Line2D at 0x117da5b70>,\n",
       " <matplotlib.lines.Line2D at 0x117dcccf8>]"
      ]
     },
     "execution_count": 8,
     "metadata": {},
     "output_type": "execute_result"
    },
    {
     "data": {
      "image/png": "[encoded data removed]",
      "text/plain": [
       "<Figure size 432x288 with 1 Axes>"
      ]
     },
     "metadata": {
      "needs_background": "light"
     },
     "output_type": "display_data"
    }
   ],
   "source": [
    "a = np.polyfit(x[:, 0], x[:, 1], 2)\n",
    "b = np.poly1d(a)\n",
    "plt.plot(x[:, 0], x[:, 1], \"-o\")\n",
    "plt.plot(x, b(x))"
   ]
  },
  {
   "cell_type": "code",
   "execution_count": 14,
   "metadata": {},
   "outputs": [
    {
     "data": {
      "text/plain": [
       "[<matplotlib.lines.Line2D at 0x117eeacf8>]"
      ]
     },
     "execution_count": 14,
     "metadata": {},
     "output_type": "execute_result"
    },
    {
     "data": {
      "image/png": "[encoded data removed]",
      "text/plain": [
       "<Figure size 432x288 with 1 Axes>"
      ]
     },
     "metadata": {
      "needs_background": "light"
     },
     "output_type": "display_data"
    }
   ],
   "source": [
    "x = 10**np.arange(10)\n",
    "plt.plot(x, b(x), \"-o\")\n",
    "#plt.plot(x, b(x))"
   ]
  },
  {
   "cell_type": "code",
   "execution_count": 17,
   "metadata": {},
   "outputs": [
    {
     "data": {
      "text/plain": [
       "array([34376.59053064])"
      ]
     },
     "execution_count": 17,
     "metadata": {},
     "output_type": "execute_result"
    }
   ],
   "source": [
    "b([300_000_000])/60/60/24/365"
   ]
  },
  {
   "cell_type": "code",
   "execution_count": null,
   "metadata": {},
   "outputs": [],
   "source": []
  }
 ],
 "metadata": {
  "kernelspec": {
   "display_name": "Python 3",
   "language": "python",
   "name": "python3"
  },
  "language_info": {
   "codemirror_mode": {
    "name": "ipython",
    "version": 3
   },
   "file_extension": ".py",
   "mimetype": "text/x-python",
   "name": "python",
   "nbconvert_exporter": "python",
   "pygments_lexer": "ipython3",
   "version": "3.7.1"
  }
 },
 "nbformat": 4,
 "nbformat_minor": 4
}
